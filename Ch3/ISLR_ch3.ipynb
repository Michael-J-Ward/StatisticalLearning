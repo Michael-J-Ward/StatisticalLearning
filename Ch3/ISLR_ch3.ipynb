{
 "cells": [
  {
   "cell_type": "code",
   "execution_count": 1,
   "metadata": {
    "collapsed": false
   },
   "outputs": [
    {
     "name": "stderr",
     "output_type": "stream",
     "text": [
      "/home/henny_mac/anaconda3/lib/python3.4/site-packages/matplotlib/__init__.py:872: UserWarning: axes.color_cycle is deprecated and replaced with axes.prop_cycle; please use the latter.\n",
      "  warnings.warn(self.msg_depr % (key, alt_key))\n"
     ]
    }
   ],
   "source": [
    "%matplotlib inline\n",
    "\n",
    "import numpy as np\n",
    "import pandas as pd\n",
    "import matplotlib.pyplot as plt\n",
    "import seaborn\n",
    "import statsmodels.api as sm\n",
    "import statsmodels.formula.api as smf\n",
    "from sklearn.linear_model import LinearRegression as ols"
   ]
  },
  {
   "cell_type": "code",
   "execution_count": 9,
   "metadata": {
    "collapsed": false
   },
   "outputs": [],
   "source": [
    "advertising = pd.read_csv('../Data/Advertising.csv', index_col = 0)"
   ]
  },
  {
   "cell_type": "code",
   "execution_count": 58,
   "metadata": {
    "collapsed": false
   },
   "outputs": [],
   "source": [
    "# Model and Data for Figure 3.1\n",
    "model = sm.OLS(advertising.Sales, sm.add_constant(advertising.TV))\n",
    "results = model.fit()\n",
    "error_bars = []\n",
    "for x,y,f in zip(advertising.TV,advertising.Sales,results.fittedvalues):\n",
    "    error_bars += [(x,x), (y,f), 'g']"
   ]
  },
  {
   "cell_type": "code",
   "execution_count": 62,
   "metadata": {
    "collapsed": false
   },
   "outputs": [
    {
     "data": {
      "text/plain": [
       "<matplotlib.text.Text at 0x7fcc83ab29b0>"
      ]
     },
     "execution_count": 62,
     "metadata": {},
     "output_type": "execute_result"
    },
    {
     "data": {
      "image/png": "[encoded data removed]",
      "text/plain": [
       "<matplotlib.figure.Figure at 0x7fcc840c2b00>"
      ]
     },
     "metadata": {},
     "output_type": "display_data"
    }
   ],
   "source": [
    "# Plot in Figure 3.1\n",
    "# BTW, plotting the error bars was a pain in the ass.\n",
    "# I ended up using this method: http://stackoverflow.com/a/21352863/4499429\n",
    "# If you know a better method, please share\n",
    "plt.scatter(advertising.TV,advertising.Sales)\n",
    "plt.plot(advertising.TV,results.fittedvalues)\n",
    "plt.plot(*error_bars, alpha=0.2)\n",
    "plt.xlabel(\"TV\")\n",
    "plt.ylabel(\"Sales\")\n",
    "plt.title(\"Linear Regression\")"
   ]
  },
  {
   "cell_type": "code",
   "execution_count": 81,
   "metadata": {
    "collapsed": false
   },
   "outputs": [],
   "source": [
    "# general Residual Sum of Squares depends only on Predicted and Actual values\n",
    "def RSS(predicted, actual):\n",
    "    return sum( (x-y)**2 for x,y in zip(predicted,actual))"
   ]
  },
  {
   "cell_type": "code",
   "execution_count": 88,
   "metadata": {
    "collapsed": false
   },
   "outputs": [
    {
     "data": {
      "text/plain": [
       "2102.5305831313503"
      ]
     },
     "execution_count": 88,
     "metadata": {},
     "output_type": "execute_result"
    }
   ],
   "source": [
    "RSS(results.fittedvalues, advertising.Sales)"
   ]
  },
  {
   "cell_type": "code",
   "execution_count": 89,
   "metadata": {
    "collapsed": false
   },
   "outputs": [],
   "source": [
    "# In case you wanted direct computations like in the book\n",
    "def cov(x,y):\n",
    "    # covariance between X and Y\n",
    "    n = len(x)\n",
    "    x_mu = sum(x)/n\n",
    "    y_mu = sum(y)/n\n",
    "    return sum( (i-x_mu)*(j-y_mu) for i,j in zip(x,y))/n\n",
    "    \n",
    "def find_betas(x,y):\n",
    "    Beta1 = cov(x,y)/cov(x,x)\n",
    "    Beta0 = sum(y)/len(y) - Beta1*sum(x)/len(x)\n",
    "    return Beta0, Beta1\n",
    "\n",
    "def predict(B0, B1, x):\n",
    "    return [ B0 + B1*i for i in x]"
   ]
  },
  {
   "cell_type": "code",
   "execution_count": 90,
   "metadata": {
    "collapsed": false
   },
   "outputs": [
    {
     "data": {
      "text/plain": [
       "2102.5305831313522"
      ]
     },
     "execution_count": 90,
     "metadata": {},
     "output_type": "execute_result"
    }
   ],
   "source": [
    "b0, b1 = find_betas(advertising.TV, advertising.Sales)\n",
    "y_predicted = predict(b0,b1,advertising.TV)\n",
    "RSS(y_predicted, advertising.Sales)"
   ]
  },
  {
   "cell_type": "code",
   "execution_count": 91,
   "metadata": {
    "collapsed": false
   },
   "outputs": [],
   "source": [
    "delta = 0.025\n",
    "x = np.arange(-3.0, 3.0, delta)\n",
    "y = np.arange(-2.0, 2.0, delta)\n",
    "X, Y = np.meshgrid(x, y)"
   ]
  },
  {
   "cell_type": "code",
   "execution_count": 103,
   "metadata": {
    "collapsed": false
   },
   "outputs": [
    {
     "data": {
      "text/plain": [
       "(160, 240)"
      ]
     },
     "execution_count": 103,
     "metadata": {},
     "output_type": "execute_result"
    }
   ],
   "source": [
    "X.shape"
   ]
  },
  {
   "cell_type": "code",
   "execution_count": null,
   "metadata": {
    "collapsed": true
   },
   "outputs": [],
   "source": []
  }
 ],
 "metadata": {
  "kernelspec": {
   "display_name": "Python 3",
   "language": "python",
   "name": "python3"
  },
  "language_info": {
   "codemirror_mode": {
    "name": "ipython",
    "version": 3
   },
   "file_extension": ".py",
   "mimetype": "text/x-python",
   "name": "python",
   "nbconvert_exporter": "python",
   "pygments_lexer": "ipython3",
   "version": "3.4.4"
  }
 },
 "nbformat": 4,
 "nbformat_minor": 0
}
