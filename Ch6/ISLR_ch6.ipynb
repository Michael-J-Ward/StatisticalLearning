{
 "cells": [
  {
   "cell_type": "code",
   "execution_count": 1,
   "metadata": {
    "collapsed": true
   },
   "outputs": [],
   "source": [
    "%matplotlib inline\n",
    "\n",
    "import numpy as np\n",
    "import pandas as pd\n",
    "import matplotlib.pyplot as plt\n",
    "import seaborn as sns\n",
    "import statsmodels.api as sm\n",
    "from sklearn import linear_model"
   ]
  },
  {
   "cell_type": "code",
   "execution_count": 40,
   "metadata": {
    "collapsed": true
   },
   "outputs": [],
   "source": [
    "from sklearn.feature_extraction import DictVectorizer\n",
    "import itertools\n",
    "def get_exog(X):\n",
    "    vec = DictVectorizer()\n",
    "    return vec.fit_transform(X.T.to_dict().values()).toarray()\n",
    "\n",
    "def forward_feature_selection(X,y, fit_model, scorer):\n",
    "    # X and y pandas data frame / series\n",
    "    # fit_model function returns a fitted model to be passed to the scorer\n",
    "    # scorer function returns score to be used in selection\n",
    "    # returns list of (score, features_set)\n",
    "    features = []\n",
    "    results = []\n",
    "    candidates = list(X.columns)\n",
    "    #import pdb; pdb.set_trace()\n",
    "    for d in range(len(candidates)):\n",
    "        scores = {}\n",
    "        for candidate in candidates:\n",
    "            cols = features + [candidate]\n",
    "            exog = get_exog(X[cols])\n",
    "            model = fit_model(exog, y.values)\n",
    "            scores[candidate] = scorer(model, exog, y.values)\n",
    "        best_feature= max(scores.keys(), key=scores.get)\n",
    "        features.append(best_feature)\n",
    "        candidates.remove(best_feature)\n",
    "        results.append((tuple(features),scores[best_feature]))\n",
    "    return results\n",
    "\n",
    "\n",
    "def best_subset_selection(X,y, fit_model, scorer):\n",
    "    results = []\n",
    "    factors = list(X.columns)\n",
    "    for d in range(1, len(factors)+1):\n",
    "        scores = {}\n",
    "        for candidate in itertools.combinations(factors, d):\n",
    "            cols = list(candidate)\n",
    "            exog = get_exog(X[cols])\n",
    "            model = fit_model(exog, y.values)\n",
    "            scores[candidate] = scorer(model, exog, y.values)\n",
    "        best_set = max(scores.keys(), key=scores.get)\n",
    "        results.append((best_set,scores[best_set]))\n",
    "    return results\n",
    "\n",
    "def fit_model(exog,endog):\n",
    "    # returns fitted model object to be passed to the scorer\n",
    "    return linear_model.LinearRegression().fit(exog,endog)\n",
    "\n",
    "def MSE(model, X, y):\n",
    "    # returns negated Mean Squared Error (to be consistent with score maximization)\n",
    "    return - ((model.predict(X) - y)**2).mean()"
   ]
  },
  {
   "cell_type": "code",
   "execution_count": 41,
   "metadata": {
    "collapsed": true
   },
   "outputs": [],
   "source": [
    "Credit = pd.read_csv('../Data/Credit.csv')\n",
    "del Credit['Unnamed: 0']"
   ]
  },
  {
   "cell_type": "code",
   "execution_count": 42,
   "metadata": {
    "collapsed": false
   },
   "outputs": [
    {
     "data": {
      "text/html": [
       "<div>\n",
       "<table border=\"1\" class=\"dataframe\">\n",
       "  <thead>\n",
       "    <tr style=\"text-align: right;\">\n",
       "      <th></th>\n",
       "      <th>Income</th>\n",
       "      <th>Limit</th>\n",
       "      <th>Rating</th>\n",
       "      <th>Cards</th>\n",
       "      <th>Age</th>\n",
       "      <th>Education</th>\n",
       "      <th>Gender</th>\n",
       "      <th>Student</th>\n",
       "      <th>Married</th>\n",
       "      <th>Ethnicity</th>\n",
       "      <th>Balance</th>\n",
       "    </tr>\n",
       "  </thead>\n",
       "  <tbody>\n",
       "    <tr>\n",
       "      <th>0</th>\n",
       "      <td>14.891</td>\n",
       "      <td>3606</td>\n",
       "      <td>283</td>\n",
       "      <td>2</td>\n",
       "      <td>34</td>\n",
       "      <td>11</td>\n",
       "      <td>Male</td>\n",
       "      <td>No</td>\n",
       "      <td>Yes</td>\n",
       "      <td>Caucasian</td>\n",
       "      <td>333</td>\n",
       "    </tr>\n",
       "    <tr>\n",
       "      <th>1</th>\n",
       "      <td>106.025</td>\n",
       "      <td>6645</td>\n",
       "      <td>483</td>\n",
       "      <td>3</td>\n",
       "      <td>82</td>\n",
       "      <td>15</td>\n",
       "      <td>Female</td>\n",
       "      <td>Yes</td>\n",
       "      <td>Yes</td>\n",
       "      <td>Asian</td>\n",
       "      <td>903</td>\n",
       "    </tr>\n",
       "    <tr>\n",
       "      <th>2</th>\n",
       "      <td>104.593</td>\n",
       "      <td>7075</td>\n",
       "      <td>514</td>\n",
       "      <td>4</td>\n",
       "      <td>71</td>\n",
       "      <td>11</td>\n",
       "      <td>Male</td>\n",
       "      <td>No</td>\n",
       "      <td>No</td>\n",
       "      <td>Asian</td>\n",
       "      <td>580</td>\n",
       "    </tr>\n",
       "    <tr>\n",
       "      <th>3</th>\n",
       "      <td>148.924</td>\n",
       "      <td>9504</td>\n",
       "      <td>681</td>\n",
       "      <td>3</td>\n",
       "      <td>36</td>\n",
       "      <td>11</td>\n",
       "      <td>Female</td>\n",
       "      <td>No</td>\n",
       "      <td>No</td>\n",
       "      <td>Asian</td>\n",
       "      <td>964</td>\n",
       "    </tr>\n",
       "    <tr>\n",
       "      <th>4</th>\n",
       "      <td>55.882</td>\n",
       "      <td>4897</td>\n",
       "      <td>357</td>\n",
       "      <td>2</td>\n",
       "      <td>68</td>\n",
       "      <td>16</td>\n",
       "      <td>Male</td>\n",
       "      <td>No</td>\n",
       "      <td>Yes</td>\n",
       "      <td>Caucasian</td>\n",
       "      <td>331</td>\n",
       "    </tr>\n",
       "  </tbody>\n",
       "</table>\n",
       "</div>"
      ],
      "text/plain": [
       "    Income  Limit  Rating  Cards  Age  Education  Gender Student Married  \\\n",
       "0   14.891   3606     283      2   34         11    Male      No     Yes   \n",
       "1  106.025   6645     483      3   82         15  Female     Yes     Yes   \n",
       "2  104.593   7075     514      4   71         11    Male      No      No   \n",
       "3  148.924   9504     681      3   36         11  Female      No      No   \n",
       "4   55.882   4897     357      2   68         16    Male      No     Yes   \n",
       "\n",
       "   Ethnicity  Balance  \n",
       "0  Caucasian      333  \n",
       "1      Asian      903  \n",
       "2      Asian      580  \n",
       "3      Asian      964  \n",
       "4  Caucasian      331  "
      ]
     },
     "execution_count": 42,
     "metadata": {},
     "output_type": "execute_result"
    }
   ],
   "source": [
    "Credit.head()"
   ]
  },
  {
   "cell_type": "code",
   "execution_count": 70,
   "metadata": {
    "collapsed": false
   },
   "outputs": [],
   "source": [
    "y = Credit['Balance']\n",
    "X = Credit.drop('Balance', axis=1)"
   ]
  },
  {
   "cell_type": "code",
   "execution_count": 71,
   "metadata": {
    "collapsed": false
   },
   "outputs": [],
   "source": [
    "forward_selection_models = forward_feature_selection(X,y, fit_model, MSE)"
   ]
  },
  {
   "cell_type": "code",
   "execution_count": 72,
   "metadata": {
    "collapsed": false
   },
   "outputs": [],
   "source": [
    "best_subset_models = best_subset_selection(X,y,fit_model,MSE)"
   ]
  },
  {
   "cell_type": "code",
   "execution_count": 73,
   "metadata": {
    "collapsed": false
   },
   "outputs": [
    {
     "data": {
      "text/plain": [
       "[(('Rating',), -53587.805081832368),\n",
       " (('Income', 'Rating'), -26331.353225424053),\n",
       " (('Income', 'Rating', 'Student'), -10568.048276516316),\n",
       " (('Income', 'Limit', 'Cards', 'Student'), -9787.6461877432121)]"
      ]
     },
     "execution_count": 73,
     "metadata": {},
     "output_type": "execute_result"
    }
   ],
   "source": [
    "best_subset_models[0:4]"
   ]
  },
  {
   "cell_type": "code",
   "execution_count": 74,
   "metadata": {
    "collapsed": true
   },
   "outputs": [],
   "source": [
    "# all Costs are returned as negative to stay consistent with scorer maximization\n",
    "from math import log\n",
    "def Cp(model, X, y, d):\n",
    "    residuals = (y - model.predict(X))**2\n",
    "    sigma = residuals.mean()\n",
    "    RSS = sum(residuals)\n",
    "    n = len(y)\n",
    "    return -(RSS + 2*d*sigma)/n\n",
    "\n",
    "def BIC(model, X, y, d):\n",
    "    residuals = (y - model.predict(X))**2\n",
    "    sigma = residuals.mean()\n",
    "    RSS = sum(residuals)\n",
    "    n = len(y)\n",
    "    return -(RSS + log(n)*d*sigma)/(n)\n",
    "\n",
    "def adjustedR2(model, X, y, d):\n",
    "    residuals = (y - model.predict(X))**2\n",
    "    y_mean = y.mean()\n",
    "    TSS = sum((y-y_mean)**2)\n",
    "    RSS = sum(residuals)\n",
    "    sigma = residuals.mean()\n",
    "    n = len(y)\n",
    "    return 1 - (RSS/(n-d-1))/(TSS/(n-1))"
   ]
  },
  {
   "cell_type": "code",
   "execution_count": 75,
   "metadata": {
    "collapsed": true
   },
   "outputs": [],
   "source": [
    "lr = linear_model.LinearRegression().fit(Credit[['Income','Limit']].values,Credit['Balance'].values)"
   ]
  },
  {
   "cell_type": "code",
   "execution_count": 76,
   "metadata": {
    "collapsed": false
   },
   "outputs": [],
   "source": [
    "num_parameters = [len(x[0])+1 for x in best_subset_models]"
   ]
  },
  {
   "cell_type": "code",
   "execution_count": 102,
   "metadata": {
    "collapsed": false
   },
   "outputs": [],
   "source": [
    "# If you are fitting a categorical variable that requires multiple dummy variable encodings,\n",
    "# does that count as 1 parameter or multiple?\n",
    "BIC_scores = []\n",
    "Cp_scores = []\n",
    "adjustedR2_scores = []\n",
    "y = Credit['Balance'].values\n",
    "for params, score in best_subset_models:\n",
    "    params = list(params)\n",
    "    X = get_exog(Credit[params])\n",
    "    lr = linear_model.LinearRegression().fit(X, y)\n",
    "    BIC_scores.append(-BIC(lr, X,y, len(params)))\n",
    "    Cp_scores.append(-Cp(lr, X,y, len(params)))\n",
    "    adjustedR2_scores.append(adjustedR2(lr, X,y, len(params)))    "
   ]
  },
  {
   "cell_type": "code",
   "execution_count": 109,
   "metadata": {
    "collapsed": false
   },
   "outputs": [
    {
     "data": {
      "image/png": "[encoded data removed]",
      "text/plain": [
       "<matplotlib.figure.Figure at 0x7f458fe5a4e0>"
      ]
     },
     "metadata": {},
     "output_type": "display_data"
    }
   ],
   "source": [
    "# I need to figure out this horizontal spacing in ipython notebooks...\n",
    "f, (ax1, ax2, ax3) = plt.subplots(ncols=3)\n",
    "ax1.plot(num_parameters, Cp_scores)\n",
    "ax1.set_ylabel('Cp')\n",
    "ax1.set_xlabel('Number of Predictors')\n",
    "ax2.plot(num_parameters, BIC_scores)\n",
    "ax2.set_ylabel('BIC')\n",
    "ax2.set_xlabel('Number of Predictors')\n",
    "ax3.plot(num_parameters, adjustedR2_scores)\n",
    "ax3.set_ylabel('Adjusted R^2')\n",
    "ax3.set_xlabel('Number of Predictors')\n",
    "plt.tight_layout()"
   ]
  },
  {
   "cell_type": "code",
   "execution_count": 192,
   "metadata": {
    "collapsed": false
   },
   "outputs": [
    {
     "data": {
      "text/html": [
       "<div>\n",
       "<table border=\"1\" class=\"dataframe\">\n",
       "  <thead>\n",
       "    <tr style=\"text-align: right;\">\n",
       "      <th></th>\n",
       "      <th>Income</th>\n",
       "      <th>Limit</th>\n",
       "      <th>Rating</th>\n",
       "      <th>Cards</th>\n",
       "      <th>Age</th>\n",
       "      <th>Education</th>\n",
       "      <th>Gender</th>\n",
       "      <th>Student</th>\n",
       "      <th>Married</th>\n",
       "    </tr>\n",
       "  </thead>\n",
       "  <tbody>\n",
       "    <tr>\n",
       "      <th>0</th>\n",
       "      <td>14.891</td>\n",
       "      <td>3606</td>\n",
       "      <td>283</td>\n",
       "      <td>2</td>\n",
       "      <td>34</td>\n",
       "      <td>11</td>\n",
       "      <td>1</td>\n",
       "      <td>0</td>\n",
       "      <td>1</td>\n",
       "    </tr>\n",
       "    <tr>\n",
       "      <th>1</th>\n",
       "      <td>106.025</td>\n",
       "      <td>6645</td>\n",
       "      <td>483</td>\n",
       "      <td>3</td>\n",
       "      <td>82</td>\n",
       "      <td>15</td>\n",
       "      <td>0</td>\n",
       "      <td>1</td>\n",
       "      <td>1</td>\n",
       "    </tr>\n",
       "    <tr>\n",
       "      <th>2</th>\n",
       "      <td>104.593</td>\n",
       "      <td>7075</td>\n",
       "      <td>514</td>\n",
       "      <td>4</td>\n",
       "      <td>71</td>\n",
       "      <td>11</td>\n",
       "      <td>1</td>\n",
       "      <td>0</td>\n",
       "      <td>0</td>\n",
       "    </tr>\n",
       "    <tr>\n",
       "      <th>3</th>\n",
       "      <td>148.924</td>\n",
       "      <td>9504</td>\n",
       "      <td>681</td>\n",
       "      <td>3</td>\n",
       "      <td>36</td>\n",
       "      <td>11</td>\n",
       "      <td>0</td>\n",
       "      <td>0</td>\n",
       "      <td>0</td>\n",
       "    </tr>\n",
       "    <tr>\n",
       "      <th>4</th>\n",
       "      <td>55.882</td>\n",
       "      <td>4897</td>\n",
       "      <td>357</td>\n",
       "      <td>2</td>\n",
       "      <td>68</td>\n",
       "      <td>16</td>\n",
       "      <td>1</td>\n",
       "      <td>0</td>\n",
       "      <td>1</td>\n",
       "    </tr>\n",
       "  </tbody>\n",
       "</table>\n",
       "</div>"
      ],
      "text/plain": [
       "    Income  Limit  Rating  Cards  Age  Education  Gender  Student  Married\n",
       "0   14.891   3606     283      2   34         11       1        0        1\n",
       "1  106.025   6645     483      3   82         15       0        1        1\n",
       "2  104.593   7075     514      4   71         11       1        0        0\n",
       "3  148.924   9504     681      3   36         11       0        0        0\n",
       "4   55.882   4897     357      2   68         16       1        0        1"
      ]
     },
     "execution_count": 192,
     "metadata": {},
     "output_type": "execute_result"
    }
   ],
   "source": [
    "from sklearn.preprocessing import normalize\n",
    "# I'm going to self-encode the binary variables and drop Ethnicity\n",
    "X = Credit.drop('Balance', axis=1)\n",
    "# the Gender column has some spaces in it\n",
    "def gender_map(x):\n",
    "    if x.strip() == 'Male':\n",
    "        return 1\n",
    "    elif x.strip() == 'Female':\n",
    "        return 0\n",
    "    else:\n",
    "        raise ValueError(\"must be 'Male' or 'Female'\")\n",
    "X['Gender'] = X['Gender'].map(gender_map)\n",
    "X['Student'] = X['Student'].map({'Yes':1, 'No': 0})\n",
    "X['Married'] = X['Married'].map({'Yes':1, 'No': 0})\n",
    "X = X.drop('Ethnicity', axis=1)\n",
    "exog = normalize(X.values)\n",
    "#exog = X.values\n",
    "y = Credit['Balance'].values\n",
    "y = (y-y.mean())/y.std()\n",
    "X.head()"
   ]
  },
  {
   "cell_type": "code",
   "execution_count": 201,
   "metadata": {
    "collapsed": false
   },
   "outputs": [],
   "source": [
    "# I'm having trouble recreating the plot in figure 6.4\n",
    "n_alphas = 500\n",
    "alphas = np.logspace(-5,-1,n_alphas)\n",
    "clf = linear_model.Ridge()\n",
    "coef_names = list(X.columns)\n",
    "coefs = []\n",
    "\n",
    "\n",
    "for a in alphas:\n",
    "    clf.set_params(alpha=a)\n",
    "    clf.fit(exog,y)\n",
    "    coefs.append(clf.coef_)"
   ]
  },
  {
   "cell_type": "code",
   "execution_count": 202,
   "metadata": {
    "collapsed": false
   },
   "outputs": [
    {
     "data": {
      "image/png": "[encoded data removed]",
      "text/plain": [
       "<matplotlib.figure.Figure at 0x7f458f703390>"
      ]
     },
     "metadata": {},
     "output_type": "display_data"
    }
   ],
   "source": [
    "\n",
    "ax = plt.gca()\n",
    "#ax.set_color_cycle(['b', 'r', 'g', 'c', 'k', 'y', 'm'])\n",
    "\n",
    "ax.plot(alphas, coefs)\n",
    "ax.set_xscale('log')\n",
    "#ax.set_xlim(ax.get_xlim()[::-1])  # reverse axis\n",
    "plt.xlabel('alpha')\n",
    "plt.ylabel('weights')\n",
    "plt.title('Ridge coefficients as a function of the regularization')\n",
    "plt.axis('tight')\n",
    "plt.legend(coef_names)\n",
    "plt.show()"
   ]
  },
  {
   "cell_type": "code",
   "execution_count": 212,
   "metadata": {
    "collapsed": false
   },
   "outputs": [],
   "source": [
    "# TODO: Figure 6.12 on page 228"
   ]
  },
  {
   "cell_type": "code",
   "execution_count": null,
   "metadata": {
    "collapsed": false
   },
   "outputs": [],
   "source": []
  },
  {
   "cell_type": "code",
   "execution_count": 222,
   "metadata": {
    "collapsed": false
   },
   "outputs": [
    {
     "ename": "AttributeError",
     "evalue": "'RidgeCV' object has no attribute 'cv_values_'",
     "output_type": "error",
     "traceback": [
      "\u001b[1;31m---------------------------------------------------------------------------\u001b[0m",
      "\u001b[1;31mAttributeError\u001b[0m                            Traceback (most recent call last)",
      "\u001b[1;32m<ipython-input-222-07ff011a9530>\u001b[0m in \u001b[0;36m<module>\u001b[1;34m()\u001b[0m\n\u001b[1;32m----> 1\u001b[1;33m \u001b[0ma\u001b[0m\u001b[1;33m.\u001b[0m\u001b[0mcv_values_\u001b[0m\u001b[1;33m\u001b[0m\u001b[0m\n\u001b[0m",
      "\u001b[1;31mAttributeError\u001b[0m: 'RidgeCV' object has no attribute 'cv_values_'"
     ]
    }
   ],
   "source": [
    "a.cv_values_"
   ]
  },
  {
   "cell_type": "code",
   "execution_count": null,
   "metadata": {
    "collapsed": true
   },
   "outputs": [],
   "source": []
  }
 ],
 "metadata": {
  "kernelspec": {
   "display_name": "Python 3",
   "language": "python",
   "name": "python3"
  },
  "language_info": {
   "codemirror_mode": {
    "name": "ipython",
    "version": 3
   },
   "file_extension": ".py",
   "mimetype": "text/x-python",
   "name": "python",
   "nbconvert_exporter": "python",
   "pygments_lexer": "ipython3",
   "version": "3.5.1"
  }
 },
 "nbformat": 4,
 "nbformat_minor": 0
}
