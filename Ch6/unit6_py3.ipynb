{
 "cells": [
  {
   "cell_type": "code",
   "execution_count": 1,
   "metadata": {
    "collapsed": true
   },
   "outputs": [],
   "source": [
    "%matplotlib inline\n",
    "\n",
    "import numpy as np\n",
    "import pandas as pd\n",
    "import matplotlib.pyplot as plt\n",
    "import seaborn as sns\n",
    "from sklearn import linear_model"
   ]
  },
  {
   "cell_type": "code",
   "execution_count": 2,
   "metadata": {
    "collapsed": true
   },
   "outputs": [],
   "source": [
    "Hitters = pd.read_csv('../Data/Hitters.csv', index_col=0)"
   ]
  },
  {
   "cell_type": "code",
   "execution_count": 3,
   "metadata": {
    "collapsed": false
   },
   "outputs": [
    {
     "data": {
      "text/html": [
       "<div>\n",
       "<table border=\"1\" class=\"dataframe\">\n",
       "  <thead>\n",
       "    <tr style=\"text-align: right;\">\n",
       "      <th></th>\n",
       "      <th>AtBat</th>\n",
       "      <th>Hits</th>\n",
       "      <th>HmRun</th>\n",
       "      <th>Runs</th>\n",
       "      <th>RBI</th>\n",
       "      <th>Walks</th>\n",
       "      <th>Years</th>\n",
       "      <th>CAtBat</th>\n",
       "      <th>CHits</th>\n",
       "      <th>CHmRun</th>\n",
       "      <th>CRuns</th>\n",
       "      <th>CRBI</th>\n",
       "      <th>CWalks</th>\n",
       "      <th>League</th>\n",
       "      <th>Division</th>\n",
       "      <th>PutOuts</th>\n",
       "      <th>Assists</th>\n",
       "      <th>Errors</th>\n",
       "      <th>Salary</th>\n",
       "      <th>NewLeague</th>\n",
       "    </tr>\n",
       "  </thead>\n",
       "  <tbody>\n",
       "    <tr>\n",
       "      <th>-Andy Allanson</th>\n",
       "      <td>293</td>\n",
       "      <td>66</td>\n",
       "      <td>1</td>\n",
       "      <td>30</td>\n",
       "      <td>29</td>\n",
       "      <td>14</td>\n",
       "      <td>1</td>\n",
       "      <td>293</td>\n",
       "      <td>66</td>\n",
       "      <td>1</td>\n",
       "      <td>30</td>\n",
       "      <td>29</td>\n",
       "      <td>14</td>\n",
       "      <td>A</td>\n",
       "      <td>E</td>\n",
       "      <td>446</td>\n",
       "      <td>33</td>\n",
       "      <td>20</td>\n",
       "      <td>NaN</td>\n",
       "      <td>A</td>\n",
       "    </tr>\n",
       "    <tr>\n",
       "      <th>-Alan Ashby</th>\n",
       "      <td>315</td>\n",
       "      <td>81</td>\n",
       "      <td>7</td>\n",
       "      <td>24</td>\n",
       "      <td>38</td>\n",
       "      <td>39</td>\n",
       "      <td>14</td>\n",
       "      <td>3449</td>\n",
       "      <td>835</td>\n",
       "      <td>69</td>\n",
       "      <td>321</td>\n",
       "      <td>414</td>\n",
       "      <td>375</td>\n",
       "      <td>N</td>\n",
       "      <td>W</td>\n",
       "      <td>632</td>\n",
       "      <td>43</td>\n",
       "      <td>10</td>\n",
       "      <td>475.0</td>\n",
       "      <td>N</td>\n",
       "    </tr>\n",
       "    <tr>\n",
       "      <th>-Alvin Davis</th>\n",
       "      <td>479</td>\n",
       "      <td>130</td>\n",
       "      <td>18</td>\n",
       "      <td>66</td>\n",
       "      <td>72</td>\n",
       "      <td>76</td>\n",
       "      <td>3</td>\n",
       "      <td>1624</td>\n",
       "      <td>457</td>\n",
       "      <td>63</td>\n",
       "      <td>224</td>\n",
       "      <td>266</td>\n",
       "      <td>263</td>\n",
       "      <td>A</td>\n",
       "      <td>W</td>\n",
       "      <td>880</td>\n",
       "      <td>82</td>\n",
       "      <td>14</td>\n",
       "      <td>480.0</td>\n",
       "      <td>A</td>\n",
       "    </tr>\n",
       "    <tr>\n",
       "      <th>-Andre Dawson</th>\n",
       "      <td>496</td>\n",
       "      <td>141</td>\n",
       "      <td>20</td>\n",
       "      <td>65</td>\n",
       "      <td>78</td>\n",
       "      <td>37</td>\n",
       "      <td>11</td>\n",
       "      <td>5628</td>\n",
       "      <td>1575</td>\n",
       "      <td>225</td>\n",
       "      <td>828</td>\n",
       "      <td>838</td>\n",
       "      <td>354</td>\n",
       "      <td>N</td>\n",
       "      <td>E</td>\n",
       "      <td>200</td>\n",
       "      <td>11</td>\n",
       "      <td>3</td>\n",
       "      <td>500.0</td>\n",
       "      <td>N</td>\n",
       "    </tr>\n",
       "    <tr>\n",
       "      <th>-Andres Galarraga</th>\n",
       "      <td>321</td>\n",
       "      <td>87</td>\n",
       "      <td>10</td>\n",
       "      <td>39</td>\n",
       "      <td>42</td>\n",
       "      <td>30</td>\n",
       "      <td>2</td>\n",
       "      <td>396</td>\n",
       "      <td>101</td>\n",
       "      <td>12</td>\n",
       "      <td>48</td>\n",
       "      <td>46</td>\n",
       "      <td>33</td>\n",
       "      <td>N</td>\n",
       "      <td>E</td>\n",
       "      <td>805</td>\n",
       "      <td>40</td>\n",
       "      <td>4</td>\n",
       "      <td>91.5</td>\n",
       "      <td>N</td>\n",
       "    </tr>\n",
       "  </tbody>\n",
       "</table>\n",
       "</div>"
      ],
      "text/plain": [
       "                   AtBat  Hits  HmRun  Runs  RBI  Walks  Years  CAtBat  CHits  \\\n",
       "-Andy Allanson       293    66      1    30   29     14      1     293     66   \n",
       "-Alan Ashby          315    81      7    24   38     39     14    3449    835   \n",
       "-Alvin Davis         479   130     18    66   72     76      3    1624    457   \n",
       "-Andre Dawson        496   141     20    65   78     37     11    5628   1575   \n",
       "-Andres Galarraga    321    87     10    39   42     30      2     396    101   \n",
       "\n",
       "                   CHmRun  CRuns  CRBI  CWalks League Division  PutOuts  \\\n",
       "-Andy Allanson          1     30    29      14      A        E      446   \n",
       "-Alan Ashby            69    321   414     375      N        W      632   \n",
       "-Alvin Davis           63    224   266     263      A        W      880   \n",
       "-Andre Dawson         225    828   838     354      N        E      200   \n",
       "-Andres Galarraga      12     48    46      33      N        E      805   \n",
       "\n",
       "                   Assists  Errors  Salary NewLeague  \n",
       "-Andy Allanson          33      20     NaN         A  \n",
       "-Alan Ashby             43      10   475.0         N  \n",
       "-Alvin Davis            82      14   480.0         A  \n",
       "-Andre Dawson           11       3   500.0         N  \n",
       "-Andres Galarraga       40       4    91.5         N  "
      ]
     },
     "execution_count": 3,
     "metadata": {},
     "output_type": "execute_result"
    }
   ],
   "source": [
    "Hitters.head()"
   ]
  },
  {
   "cell_type": "code",
   "execution_count": 4,
   "metadata": {
    "collapsed": false
   },
   "outputs": [
    {
     "data": {
      "text/plain": [
       "AtBat        322\n",
       "Hits         322\n",
       "HmRun        322\n",
       "Runs         322\n",
       "RBI          322\n",
       "Walks        322\n",
       "Years        322\n",
       "CAtBat       322\n",
       "CHits        322\n",
       "CHmRun       322\n",
       "CRuns        322\n",
       "CRBI         322\n",
       "CWalks       322\n",
       "League       322\n",
       "Division     322\n",
       "PutOuts      322\n",
       "Assists      322\n",
       "Errors       322\n",
       "Salary       263\n",
       "NewLeague    322\n",
       "dtype: int64"
      ]
     },
     "execution_count": 4,
     "metadata": {},
     "output_type": "execute_result"
    }
   ],
   "source": [
    "Hitters.count() #counts non-NA values, notice Salary is 263"
   ]
  },
  {
   "cell_type": "code",
   "execution_count": 5,
   "metadata": {
    "collapsed": false
   },
   "outputs": [
    {
     "name": "stdout",
     "output_type": "stream",
     "text": [
      "AtBat         0\n",
      "Hits          0\n",
      "HmRun         0\n",
      "Runs          0\n",
      "RBI           0\n",
      "Walks         0\n",
      "Years         0\n",
      "CAtBat        0\n",
      "CHits         0\n",
      "CHmRun        0\n",
      "CRuns         0\n",
      "CRBI          0\n",
      "CWalks        0\n",
      "League        0\n",
      "Division      0\n",
      "PutOuts       0\n",
      "Assists       0\n",
      "Errors        0\n",
      "Salary       59\n",
      "NewLeague     0\n",
      "dtype: int64\n",
      "AtBat        263\n",
      "Hits         263\n",
      "HmRun        263\n",
      "Runs         263\n",
      "RBI          263\n",
      "Walks        263\n",
      "Years        263\n",
      "CAtBat       263\n",
      "CHits        263\n",
      "CHmRun       263\n",
      "CRuns        263\n",
      "CRBI         263\n",
      "CWalks       263\n",
      "League       263\n",
      "Division     263\n",
      "PutOuts      263\n",
      "Assists      263\n",
      "Errors       263\n",
      "Salary       263\n",
      "NewLeague    263\n",
      "dtype: int64\n"
     ]
    }
   ],
   "source": [
    "print(Hitters.isnull().sum()) #alternative to counting null values\n",
    "Hitters = Hitters.dropna()\n",
    "print(Hitters.count()) # now 263 for all"
   ]
  },
  {
   "cell_type": "code",
   "execution_count": 6,
   "metadata": {
    "collapsed": false
   },
   "outputs": [
    {
     "name": "stdout",
     "output_type": "stream",
     "text": [
      "A    139\n",
      "N    124\n",
      "Name: League, dtype: int64 \n",
      " A    141\n",
      "N    122\n",
      "Name: NewLeague, dtype: int64 \n",
      " W    134\n",
      "E    129\n",
      "Name: Division, dtype: int64\n"
     ]
    }
   ],
   "source": [
    "# luckily the categorical variables are all binary, so i will just directly encode them\n",
    "print(Hitters['League'].value_counts(),'\\n', Hitters['NewLeague'].value_counts(),'\\n', Hitters['Division'].value_counts())"
   ]
  },
  {
   "cell_type": "code",
   "execution_count": 7,
   "metadata": {
    "collapsed": false
   },
   "outputs": [
    {
     "name": "stdout",
     "output_type": "stream",
     "text": [
      "1    139\n",
      "0    124\n",
      "Name: League, dtype: int64 \n",
      " 1    141\n",
      "0    122\n",
      "Name: NewLeague, dtype: int64 \n",
      " 1    134\n",
      "0    129\n",
      "Name: Division, dtype: int64\n"
     ]
    }
   ],
   "source": [
    "# Some of the columns have extra white-space\n",
    "def binary_encoder(a,b):\n",
    "    def _matcher(x):\n",
    "        if x.strip()==a:\n",
    "            return 1\n",
    "        elif x.strip()==b:\n",
    "            return 0\n",
    "        else:\n",
    "            raise ValueError('Value \"{0}\" not in [{}, {}]'.format(x,a,b))\n",
    "    return _matcher\n",
    "    \n",
    "X = Hitters.drop('Salary', axis=1)\n",
    "X['League'] = X['League'].map(binary_encoder('A','N')) \n",
    "X['NewLeague'] = X['NewLeague'].map(binary_encoder('A','N')) \n",
    "X['Division'] = X['Division'].map(binary_encoder('W','E'))\n",
    "print(X['League'].value_counts(),'\\n', X['NewLeague'].value_counts(),'\\n', X['Division'].value_counts())\n",
    "\n",
    "y = Hitters['Salary']"
   ]
  },
  {
   "cell_type": "code",
   "execution_count": 105,
   "metadata": {
    "collapsed": false
   },
   "outputs": [],
   "source": [
    "# Note that these only work for data-sets whose categorical variables have already been encoded\n",
    "\n",
    "from itertools import combinations\n",
    "def all_subsets_search(X,y, fit_model, scorer):\n",
    "    \"\"\"Performs full subset search.\n",
    "    WARNING: Does NOT implement the Leaps and Bounds algorithm. A full model will be fitted for each subset.\n",
    "    Args:\n",
    "        X (pandas.DataFrame): DataFrame of features to be selected\n",
    "        y (pandas.Series): Series of target values\n",
    "        model (sklearn model): form of model to fit.\n",
    "        scorer (function): function(model,X,y) --> score for model\n",
    "    Returns:\n",
    "        Python Dictionary with following keys\n",
    "        models (list): best model for each level of parameters\n",
    "        scores (list): list of scores returned by scorer function for corresponding models\n",
    "        Cp (list): list of Mallows Cp scores for corresponding models\n",
    "        Params (dict): dictionary of arguments used to initiate search\n",
    "    \"\"\"\n",
    "    \n",
    "    results = {'models': [], 'scores': [], 'Cp': []}\n",
    "    results['params'] = {'X': X,\n",
    "                        'y': y,\n",
    "                        'fit_model': fit_model,\n",
    "                        'scorer': scorer}\n",
    "    features = list(X.columns)\n",
    "    n = len(y)\n",
    "    full_model = fit_model(X.values,y.values)\n",
    "    var_estimate = n*MSE(full_model, X.values, y.values)/(n-len(features)-1)\n",
    "\n",
    "    for d in range(1, len(features)):\n",
    "        scores = {}\n",
    "        cp = {}\n",
    "        for subset in combinations(features,d):\n",
    "            cols = list(subset)\n",
    "            model = fit_model(X[cols].values, y.values)\n",
    "            scores[subset] = scorer(model,X[cols].values,y.values)\n",
    "            cp[subset] = calc_cp(model,X[cols].values, y.values, var_estimate, n,len(subset))\n",
    "        best_set = min(scores.keys(), key=scores.get)\n",
    "        results['models'].append(best_set)\n",
    "        results['scores'].append(scores[best_set])\n",
    "        results['Cp'].append(cp[best_set])\n",
    "    # add in full_model results\n",
    "    results['models'].append(tuple(features))\n",
    "    results['scores'].append(scorer(full_model,X.values,y.values))\n",
    "    results['Cp'].append(calc_cp(full_model, X.values, y.values, var_estimate, n, len(features)))\n",
    "    return results\n",
    "\n",
    "\n",
    "def forward_subset_search(X, y, fit_model, scorer):\n",
    "    \"\"\"Performs forward selection search.\n",
    "    Args:\n",
    "        X (pandas.DataFrame): DataFrame of features to be selected\n",
    "        y (pandas.Series): Series of target values\n",
    "        model (sklearn model): form of model to fit.\n",
    "        scorer (function): function(model,X,y) --> score for model\n",
    "    Returns:\n",
    "        Python Dictionary with following keys\n",
    "        models (list): best model for each level of parameters\n",
    "        scores (list): list of scores returned by scorer function for corresponding models\n",
    "        Cp (list): list of Mallows Cp scores for corresponding models\n",
    "        Params (dict): dictionary of arguments used to initiate search\n",
    "    \"\"\"\n",
    "    \n",
    "    results = {'models': [], 'scores': [], 'Cp': []}\n",
    "    results['params'] = {'X': X,\n",
    "                        'y': y,\n",
    "                        'fit_model': fit_model,\n",
    "                        'scorer': scorer}\n",
    "    \n",
    "    features = list(X.columns)\n",
    "    n = len(y)\n",
    "    full_model = fit_model(X.values,y.values)\n",
    "    var_estimate = n*MSE(full_model, X.values, y.values)/(n-len(features)-1)\n",
    "    \n",
    "    features = []\n",
    "    candidates = list(X.columns)\n",
    "    #import pdb; pdb.set_trace()\n",
    "    for d in range(len(candidates) - 1):\n",
    "        scores = {}\n",
    "        cp = {}\n",
    "        for candidate in candidates:\n",
    "            cols = features + [candidate]\n",
    "            model = fit_model(X[cols].values, y.values)\n",
    "            scores[candidate] = scorer(model, X[cols].values, y.values)\n",
    "            cp[candidate] = calc_cp(model, X[cols].values, y.values, var_estimate, n, len(cols))\n",
    "            \n",
    "        best_feature= min(scores.keys(), key=scores.get)\n",
    "        features.append(best_feature)\n",
    "        candidates.remove(best_feature)\n",
    "        \n",
    "        results['models'].append(tuple(features))\n",
    "        results['scores'].append(scores[best_feature])\n",
    "        results['Cp'].append(cp[best_feature])\n",
    "    \n",
    "    results['models'].append(tuple(X.columns))\n",
    "    results['scores'].append(scorer(full_model,X.values,y.values))\n",
    "    results['Cp'].append(calc_cp(full_model, X.values, y.values, var_estimate, n, len(X.columns)))\n",
    "    return results\n",
    "    \n",
    "def fit_linear_model(X,y):\n",
    "    \"\"\"Returns fitted sklearn LinearRegression model\"\"\"\n",
    "    lr = linear_model.LinearRegression()\n",
    "    return lr.fit(X,y)\n",
    "\n",
    "def MSE(model,X, y):\n",
    "    \"\"\"Return mean squared error\"\"\"\n",
    "    return ((y - model.predict(X))**2).mean()\n",
    "\n",
    "def calc_cp(model, X, y, var_error, n, d):\n",
    "    \"\"\"Calculates Mallow's Cp for model\"\"\"\n",
    "    RSS = ((y-model.predict(X))**2).sum()\n",
    "    return RSS/var_error - n + 2*d"
   ]
  },
  {
   "cell_type": "code",
   "execution_count": 77,
   "metadata": {
    "collapsed": false
   },
   "outputs": [],
   "source": [
    "# warning this will take a while...\n",
    "#regfit_full = all_subsets_search(X,y, fit_linear_model, MSE)\n",
    "#regfit_full['params'] = {'X': X, 'y': y, 'fit_model': fit_linear_model, 'scorer': MSE}"
   ]
  },
  {
   "cell_type": "code",
   "execution_count": 73,
   "metadata": {
    "collapsed": false
   },
   "outputs": [
    {
     "data": {
      "text/plain": [
       "<matplotlib.text.Text at 0x7f1a11d807f0>"
      ]
     },
     "execution_count": 73,
     "metadata": {},
     "output_type": "execute_result"
    },
    {
     "data": {
      "image/png": "[encoded data removed]",
      "text/plain": [
       "<matplotlib.figure.Figure at 0x7f1a124634e0>"
      ]
     },
     "metadata": {},
     "output_type": "display_data"
    }
   ],
   "source": [
    "plt.plot(list(range(1,20)), alt_cps,  marker='o', linestyle='-')\n",
    "plt.plot(np.argmin(regfit_full['Cp']) + 1, min(regfit_full['Cp']), 'ro') # python arrays are 0 indexed, hence the + 1\n",
    "plt.xlabel('Number of Features')\n",
    "plt.ylabel(\"Mallow's Cp\")\n",
    "plt.title(\"Best Subset Results\")"
   ]
  },
  {
   "cell_type": "code",
   "execution_count": 75,
   "metadata": {
    "collapsed": false
   },
   "outputs": [],
   "source": [
    "# note, that other plot is nice, but I don't have time to reconstruct it right now"
   ]
  },
  {
   "cell_type": "code",
   "execution_count": 93,
   "metadata": {
    "collapsed": false
   },
   "outputs": [],
   "source": [
    "def get_coef(regfit, d):\n",
    "    features = regfit['models'][d-1]\n",
    "    fit_model, X, y = (regfit['params'][k] for k in ['fit_model', 'X', 'y'])\n",
    "    model = fit_model(X[list(features)].values, y.values)\n",
    "    coefs = model.coef_\n",
    "    res = pd.Series({k:v for k,v in zip(features, coefs)})\n",
    "    res['intercept'] = model.intercept_\n",
    "    return res"
   ]
  },
  {
   "cell_type": "code",
   "execution_count": 97,
   "metadata": {
    "collapsed": false
   },
   "outputs": [
    {
     "data": {
      "text/plain": [
       "Assists        0.283168\n",
       "AtBat         -2.168650\n",
       "CAtBat        -0.130080\n",
       "CRBI           0.774312\n",
       "CRuns          1.408249\n",
       "CWalks        -0.830826\n",
       "Division    -112.380057\n",
       "Hits           6.918017\n",
       "PutOuts        0.297373\n",
       "Walks          5.773225\n",
       "intercept    162.535442\n",
       "dtype: float64"
      ]
     },
     "execution_count": 97,
     "metadata": {},
     "output_type": "execute_result"
    }
   ],
   "source": [
    "get_coef(regfit_full, 10)"
   ]
  },
  {
   "cell_type": "code",
   "execution_count": 106,
   "metadata": {
    "collapsed": false
   },
   "outputs": [],
   "source": [
    "regfit_fwd = forward_subset_search(X,y, fit_linear_model, MSE)"
   ]
  },
  {
   "cell_type": "code",
   "execution_count": 107,
   "metadata": {
    "collapsed": false
   },
   "outputs": [
    {
     "name": "stdout",
     "output_type": "stream",
     "text": [
      "('CRBI',)\n",
      "('CRBI', 'Hits')\n",
      "('CRBI', 'Hits', 'PutOuts')\n",
      "('CRBI', 'Hits', 'PutOuts', 'Division')\n",
      "('CRBI', 'Hits', 'PutOuts', 'Division', 'AtBat')\n",
      "('CRBI', 'Hits', 'PutOuts', 'Division', 'AtBat', 'Walks')\n",
      "('CRBI', 'Hits', 'PutOuts', 'Division', 'AtBat', 'Walks', 'CWalks')\n",
      "('CRBI', 'Hits', 'PutOuts', 'Division', 'AtBat', 'Walks', 'CWalks', 'CRuns')\n",
      "('CRBI', 'Hits', 'PutOuts', 'Division', 'AtBat', 'Walks', 'CWalks', 'CRuns', 'CAtBat')\n",
      "('CRBI', 'Hits', 'PutOuts', 'Division', 'AtBat', 'Walks', 'CWalks', 'CRuns', 'CAtBat', 'Assists')\n",
      "('CRBI', 'Hits', 'PutOuts', 'Division', 'AtBat', 'Walks', 'CWalks', 'CRuns', 'CAtBat', 'Assists', 'League')\n",
      "('CRBI', 'Hits', 'PutOuts', 'Division', 'AtBat', 'Walks', 'CWalks', 'CRuns', 'CAtBat', 'Assists', 'League', 'Runs')\n",
      "('CRBI', 'Hits', 'PutOuts', 'Division', 'AtBat', 'Walks', 'CWalks', 'CRuns', 'CAtBat', 'Assists', 'League', 'Runs', 'Errors')\n",
      "('CRBI', 'Hits', 'PutOuts', 'Division', 'AtBat', 'Walks', 'CWalks', 'CRuns', 'CAtBat', 'Assists', 'League', 'Runs', 'Errors', 'HmRun')\n",
      "('CRBI', 'Hits', 'PutOuts', 'Division', 'AtBat', 'Walks', 'CWalks', 'CRuns', 'CAtBat', 'Assists', 'League', 'Runs', 'Errors', 'HmRun', 'CHits')\n",
      "('CRBI', 'Hits', 'PutOuts', 'Division', 'AtBat', 'Walks', 'CWalks', 'CRuns', 'CAtBat', 'Assists', 'League', 'Runs', 'Errors', 'HmRun', 'CHits', 'RBI')\n",
      "('CRBI', 'Hits', 'PutOuts', 'Division', 'AtBat', 'Walks', 'CWalks', 'CRuns', 'CAtBat', 'Assists', 'League', 'Runs', 'Errors', 'HmRun', 'CHits', 'RBI', 'NewLeague')\n",
      "('CRBI', 'Hits', 'PutOuts', 'Division', 'AtBat', 'Walks', 'CWalks', 'CRuns', 'CAtBat', 'Assists', 'League', 'Runs', 'Errors', 'HmRun', 'CHits', 'RBI', 'NewLeague', 'Years')\n",
      "('AtBat', 'Hits', 'HmRun', 'Runs', 'RBI', 'Walks', 'Years', 'CAtBat', 'CHits', 'CHmRun', 'CRuns', 'CRBI', 'CWalks', 'League', 'Division', 'PutOuts', 'Assists', 'Errors', 'NewLeague')\n"
     ]
    }
   ],
   "source": [
    "# you can verify this returns the same results\n",
    "for model in regfit_fwd['models']: print(model)"
   ]
  },
  {
   "cell_type": "code",
   "execution_count": 109,
   "metadata": {
    "collapsed": false
   },
   "outputs": [
    {
     "data": {
      "text/plain": [
       "[<matplotlib.lines.Line2D at 0x7f1a11a40ba8>]"
      ]
     },
     "execution_count": 109,
     "metadata": {},
     "output_type": "execute_result"
    },
    {
     "data": {
      "image/png": "[encoded data removed]",
      "text/plain": [
       "<matplotlib.figure.Figure at 0x7f1a11d8a358>"
      ]
     },
     "metadata": {},
     "output_type": "display_data"
    }
   ],
   "source": [
    "# Pretty similar Mallow's Cp plot\n",
    "plt.plot(regfit_fwd['Cp'])"
   ]
  },
  {
   "cell_type": "code",
   "execution_count": 268,
   "metadata": {
    "collapsed": false
   },
   "outputs": [],
   "source": [
    "# it's interesting running this a few separate times, you get a **very** different results\n",
    "# if you want to generat your own random samples, uncomment and run this cell\n",
    "\n",
    "# np.random.seed(1)\n",
    "# ix = list(range(len(y)))\n",
    "# np.random.shuffle(ix)\n",
    "# train, test = ix[:180], ix[180:]\n"
   ]
  },
  {
   "cell_type": "code",
   "execution_count": 323,
   "metadata": {
    "collapsed": false
   },
   "outputs": [
    {
     "data": {
      "text/plain": [
       "True"
      ]
     },
     "execution_count": 323,
     "metadata": {},
     "output_type": "execute_result"
    }
   ],
   "source": [
    "# if you want to use the same samples as used in the lab, run this cell\n",
    "with open('validation_sample.txt', 'r') as f:\n",
    "    train = [int(i) - 1 for i in f.read().split()]\n",
    "test = [i for i in range(len(y)) if i not in train]\n",
    "all( i not in test for i in train)"
   ]
  },
  {
   "cell_type": "code",
   "execution_count": 324,
   "metadata": {
    "collapsed": false
   },
   "outputs": [],
   "source": [
    "# if you wanted to do it just like the R lab\n",
    "def sparse_multiply(X_mat,b_vec):\n",
    "    \"\"\"Return sparse matrix-vector multiplication where betas not in b are assumed to be 0\"\"\"\n",
    "    return sum(X_mat[j]*b_vec[j] for j in b_vec.index if j is not 'intercept') + b_vec['intercept']\n",
    "\n",
    "regfit_fwd = forward_subset_search(X.iloc[train],y.iloc[train], fit_linear_model, MSE)"
   ]
  },
  {
   "cell_type": "code",
   "execution_count": 325,
   "metadata": {
    "collapsed": false
   },
   "outputs": [],
   "source": [
    "X_test, y_test = X.iloc[test], y.iloc[test]\n",
    "cv_errors = []\n",
    "for i in range(1,20):\n",
    "    coefi = get_coef(regfit_fwd, i)\n",
    "    pred = sparse_multiply(X_test, coefi)\n",
    "    cv_errors.append( np.sqrt( ((pred-y_test)**2).mean() ))"
   ]
  },
  {
   "cell_type": "code",
   "execution_count": 326,
   "metadata": {
    "collapsed": false
   },
   "outputs": [
    {
     "data": {
      "text/plain": [
       "<matplotlib.legend.Legend at 0x7f1a105b8160>"
      ]
     },
     "execution_count": 326,
     "metadata": {},
     "output_type": "execute_result"
    },
    {
     "data": {
      "image/png": "[encoded data removed]",
      "text/plain": [
       "<matplotlib.figure.Figure at 0x7f1a10b48fd0>"
      ]
     },
     "metadata": {},
     "output_type": "display_data"
    }
   ],
   "source": [
    "plt.plot(range(1,20), cv_errors, label='Test Error')\n",
    "plt.plot(range(1,20), np.sqrt(regfit_fwd['scores']), label='Training Error')\n",
    "plt.ylabel('Root Mean Squared Error')\n",
    "plt.xlabel('Number of Parameters')\n",
    "plt.legend()"
   ]
  },
  {
   "cell_type": "code",
   "execution_count": 327,
   "metadata": {
    "collapsed": false
   },
   "outputs": [],
   "source": [
    "# if you want to create your own random samples, uncoment and run this cell not the next one\n",
    "# folds = np.random.randint(0,10, len(y))\n",
    "\n",
    "# if you want the same folds as used in the lab\n",
    "folds = [i%10 for i in range(263)]"
   ]
  },
  {
   "cell_type": "code",
   "execution_count": 329,
   "metadata": {
    "collapsed": false
   },
   "outputs": [
    {
     "name": "stdout",
     "output_type": "stream",
     "text": [
      "263\n",
      "0 27\n",
      "1 27\n",
      "2 27\n",
      "3 26\n",
      "4 26\n",
      "5 26\n",
      "6 26\n",
      "7 26\n",
      "8 26\n",
      "9 26\n"
     ]
    }
   ],
   "source": [
    "print(len(folds))\n",
    "counts = {}\n",
    "for k in folds:\n",
    "    counts[k] = counts.get(k,0) + 1\n",
    "for k,v in counts.items(): print(k,v)"
   ]
  },
  {
   "cell_type": "code",
   "execution_count": 308,
   "metadata": {
    "collapsed": false
   },
   "outputs": [
    {
     "name": "stdout",
     "output_type": "stream",
     "text": [
      "263\n"
     ]
    }
   ],
   "source": []
  },
  {
   "cell_type": "code",
   "execution_count": 314,
   "metadata": {
    "collapsed": false
   },
   "outputs": [
    {
     "data": {
      "text/plain": [
       "True"
      ]
     },
     "execution_count": 314,
     "metadata": {},
     "output_type": "execute_result"
    }
   ],
   "source": [
    "folds == folds2"
   ]
  },
  {
   "cell_type": "code",
   "execution_count": null,
   "metadata": {
    "collapsed": true
   },
   "outputs": [],
   "source": []
  }
 ],
 "metadata": {
  "kernelspec": {
   "display_name": "Python 3",
   "language": "python",
   "name": "python3"
  },
  "language_info": {
   "codemirror_mode": {
    "name": "ipython",
    "version": 3
   },
   "file_extension": ".py",
   "mimetype": "text/x-python",
   "name": "python",
   "nbconvert_exporter": "python",
   "pygments_lexer": "ipython3",
   "version": "3.5.1"
  }
 },
 "nbformat": 4,
 "nbformat_minor": 0
}
